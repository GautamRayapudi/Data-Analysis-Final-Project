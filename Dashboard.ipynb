{
 "cells": [
  {
   "cell_type": "code",
   "execution_count": 1,
   "id": "97bc5e98-5487-432a-bfc9-7535cecd5eff",
   "metadata": {
    "tags": []
   },
   "outputs": [
    {
     "name": "stdout",
     "output_type": "stream",
     "text": [
      "Requirement already satisfied: pywedge in c:\\users\\asus\\anaconda3\\lib\\site-packages (0.5.1.8)\n",
      "Requirement already satisfied: xgboost in c:\\users\\asus\\anaconda3\\lib\\site-packages (from pywedge) (2.0.3)\n",
      "Requirement already satisfied: pandas in c:\\users\\asus\\anaconda3\\lib\\site-packages (from pywedge) (1.5.3)\n",
      "Requirement already satisfied: catboost>0.24 in c:\\users\\asus\\anaconda3\\lib\\site-packages (from pywedge) (1.2.2)\n",
      "Requirement already satisfied: numpy in c:\\users\\asus\\anaconda3\\lib\\site-packages (from pywedge) (1.24.3)\n",
      "Requirement already satisfied: scikit-learn in c:\\users\\asus\\anaconda3\\lib\\site-packages (from pywedge) (1.3.0)\n",
      "Requirement already satisfied: imbalanced-learn in c:\\users\\asus\\anaconda3\\lib\\site-packages (from pywedge) (0.10.1)\n",
      "Requirement already satisfied: plotly in c:\\users\\asus\\anaconda3\\lib\\site-packages (from pywedge) (5.9.0)\n",
      "Requirement already satisfied: ipywidgets in c:\\users\\asus\\anaconda3\\lib\\site-packages (from pywedge) (8.0.4)\n",
      "Requirement already satisfied: tqdm in c:\\users\\asus\\anaconda3\\lib\\site-packages (from pywedge) (4.65.0)\n",
      "Requirement already satisfied: graphviz in c:\\users\\asus\\anaconda3\\lib\\site-packages (from catboost>0.24->pywedge) (0.20.1)\n",
      "Requirement already satisfied: matplotlib in c:\\users\\asus\\anaconda3\\lib\\site-packages (from catboost>0.24->pywedge) (3.7.1)\n",
      "Requirement already satisfied: scipy in c:\\users\\asus\\anaconda3\\lib\\site-packages (from catboost>0.24->pywedge) (1.10.1)\n",
      "Requirement already satisfied: six in c:\\users\\asus\\anaconda3\\lib\\site-packages (from catboost>0.24->pywedge) (1.16.0)\n",
      "Requirement already satisfied: python-dateutil>=2.8.1 in c:\\users\\asus\\anaconda3\\lib\\site-packages (from pandas->pywedge) (2.8.2)\n",
      "Requirement already satisfied: pytz>=2020.1 in c:\\users\\asus\\anaconda3\\lib\\site-packages (from pandas->pywedge) (2022.7)\n",
      "Requirement already satisfied: joblib>=1.1.1 in c:\\users\\asus\\anaconda3\\lib\\site-packages (from imbalanced-learn->pywedge) (1.2.0)\n",
      "Requirement already satisfied: threadpoolctl>=2.0.0 in c:\\users\\asus\\anaconda3\\lib\\site-packages (from imbalanced-learn->pywedge) (2.2.0)\n",
      "Requirement already satisfied: ipykernel>=4.5.1 in c:\\users\\asus\\anaconda3\\lib\\site-packages (from ipywidgets->pywedge) (6.19.2)\n",
      "Requirement already satisfied: ipython>=6.1.0 in c:\\users\\asus\\anaconda3\\lib\\site-packages (from ipywidgets->pywedge) (8.12.0)\n",
      "Requirement already satisfied: traitlets>=4.3.1 in c:\\users\\asus\\anaconda3\\lib\\site-packages (from ipywidgets->pywedge) (5.7.1)\n",
      "Requirement already satisfied: widgetsnbextension~=4.0 in c:\\users\\asus\\anaconda3\\lib\\site-packages (from ipywidgets->pywedge) (4.0.5)\n",
      "Requirement already satisfied: jupyterlab-widgets~=3.0 in c:\\users\\asus\\anaconda3\\lib\\site-packages (from ipywidgets->pywedge) (3.0.5)\n",
      "Requirement already satisfied: tenacity>=6.2.0 in c:\\users\\asus\\anaconda3\\lib\\site-packages (from plotly->pywedge) (8.2.2)\n",
      "Requirement already satisfied: colorama in c:\\users\\asus\\anaconda3\\lib\\site-packages (from tqdm->pywedge) (0.4.6)\n",
      "Requirement already satisfied: comm>=0.1.1 in c:\\users\\asus\\anaconda3\\lib\\site-packages (from ipykernel>=4.5.1->ipywidgets->pywedge) (0.1.2)\n",
      "Requirement already satisfied: debugpy>=1.0 in c:\\users\\asus\\anaconda3\\lib\\site-packages (from ipykernel>=4.5.1->ipywidgets->pywedge) (1.6.7)\n",
      "Requirement already satisfied: jupyter-client>=6.1.12 in c:\\users\\asus\\anaconda3\\lib\\site-packages (from ipykernel>=4.5.1->ipywidgets->pywedge) (7.4.9)\n",
      "Requirement already satisfied: matplotlib-inline>=0.1 in c:\\users\\asus\\anaconda3\\lib\\site-packages (from ipykernel>=4.5.1->ipywidgets->pywedge) (0.1.6)\n",
      "Requirement already satisfied: nest-asyncio in c:\\users\\asus\\anaconda3\\lib\\site-packages (from ipykernel>=4.5.1->ipywidgets->pywedge) (1.5.6)\n",
      "Requirement already satisfied: packaging in c:\\users\\asus\\anaconda3\\lib\\site-packages (from ipykernel>=4.5.1->ipywidgets->pywedge) (23.0)\n",
      "Requirement already satisfied: psutil in c:\\users\\asus\\anaconda3\\lib\\site-packages (from ipykernel>=4.5.1->ipywidgets->pywedge) (5.9.0)\n",
      "Requirement already satisfied: pyzmq>=17 in c:\\users\\asus\\anaconda3\\lib\\site-packages (from ipykernel>=4.5.1->ipywidgets->pywedge) (23.2.0)\n",
      "Requirement already satisfied: tornado>=6.1 in c:\\users\\asus\\anaconda3\\lib\\site-packages (from ipykernel>=4.5.1->ipywidgets->pywedge) (6.3.2)\n",
      "Requirement already satisfied: backcall in c:\\users\\asus\\anaconda3\\lib\\site-packages (from ipython>=6.1.0->ipywidgets->pywedge) (0.2.0)\n",
      "Requirement already satisfied: decorator in c:\\users\\asus\\anaconda3\\lib\\site-packages (from ipython>=6.1.0->ipywidgets->pywedge) (5.1.1)\n",
      "Requirement already satisfied: jedi>=0.16 in c:\\users\\asus\\anaconda3\\lib\\site-packages (from ipython>=6.1.0->ipywidgets->pywedge) (0.18.1)\n",
      "Requirement already satisfied: pickleshare in c:\\users\\asus\\anaconda3\\lib\\site-packages (from ipython>=6.1.0->ipywidgets->pywedge) (0.7.5)\n",
      "Requirement already satisfied: prompt-toolkit!=3.0.37,<3.1.0,>=3.0.30 in c:\\users\\asus\\anaconda3\\lib\\site-packages (from ipython>=6.1.0->ipywidgets->pywedge) (3.0.36)\n",
      "Requirement already satisfied: pygments>=2.4.0 in c:\\users\\asus\\anaconda3\\lib\\site-packages (from ipython>=6.1.0->ipywidgets->pywedge) (2.15.1)\n",
      "Requirement already satisfied: stack-data in c:\\users\\asus\\anaconda3\\lib\\site-packages (from ipython>=6.1.0->ipywidgets->pywedge) (0.2.0)\n",
      "Requirement already satisfied: contourpy>=1.0.1 in c:\\users\\asus\\anaconda3\\lib\\site-packages (from matplotlib->catboost>0.24->pywedge) (1.0.5)\n",
      "Requirement already satisfied: cycler>=0.10 in c:\\users\\asus\\anaconda3\\lib\\site-packages (from matplotlib->catboost>0.24->pywedge) (0.11.0)\n",
      "Requirement already satisfied: fonttools>=4.22.0 in c:\\users\\asus\\anaconda3\\lib\\site-packages (from matplotlib->catboost>0.24->pywedge) (4.25.0)\n",
      "Requirement already satisfied: kiwisolver>=1.0.1 in c:\\users\\asus\\anaconda3\\lib\\site-packages (from matplotlib->catboost>0.24->pywedge) (1.4.4)\n",
      "Requirement already satisfied: pillow>=6.2.0 in c:\\users\\asus\\anaconda3\\lib\\site-packages (from matplotlib->catboost>0.24->pywedge) (9.4.0)\n",
      "Requirement already satisfied: pyparsing>=2.3.1 in c:\\users\\asus\\anaconda3\\lib\\site-packages (from matplotlib->catboost>0.24->pywedge) (3.0.9)\n",
      "Requirement already satisfied: parso<0.9.0,>=0.8.0 in c:\\users\\asus\\anaconda3\\lib\\site-packages (from jedi>=0.16->ipython>=6.1.0->ipywidgets->pywedge) (0.8.3)\n",
      "Requirement already satisfied: entrypoints in c:\\users\\asus\\anaconda3\\lib\\site-packages (from jupyter-client>=6.1.12->ipykernel>=4.5.1->ipywidgets->pywedge) (0.4)\n",
      "Requirement already satisfied: jupyter-core>=4.9.2 in c:\\users\\asus\\anaconda3\\lib\\site-packages (from jupyter-client>=6.1.12->ipykernel>=4.5.1->ipywidgets->pywedge) (5.3.0)\n",
      "Requirement already satisfied: wcwidth in c:\\users\\asus\\anaconda3\\lib\\site-packages (from prompt-toolkit!=3.0.37,<3.1.0,>=3.0.30->ipython>=6.1.0->ipywidgets->pywedge) (0.2.5)\n",
      "Requirement already satisfied: executing in c:\\users\\asus\\anaconda3\\lib\\site-packages (from stack-data->ipython>=6.1.0->ipywidgets->pywedge) (0.8.3)\n",
      "Requirement already satisfied: asttokens in c:\\users\\asus\\anaconda3\\lib\\site-packages (from stack-data->ipython>=6.1.0->ipywidgets->pywedge) (2.0.5)\n",
      "Requirement already satisfied: pure-eval in c:\\users\\asus\\anaconda3\\lib\\site-packages (from stack-data->ipython>=6.1.0->ipywidgets->pywedge) (0.2.2)\n",
      "Requirement already satisfied: platformdirs>=2.5 in c:\\users\\asus\\anaconda3\\lib\\site-packages (from jupyter-core>=4.9.2->jupyter-client>=6.1.12->ipykernel>=4.5.1->ipywidgets->pywedge) (2.5.2)\n",
      "Requirement already satisfied: pywin32>=300 in c:\\users\\asus\\anaconda3\\lib\\site-packages (from jupyter-core>=4.9.2->jupyter-client>=6.1.12->ipykernel>=4.5.1->ipywidgets->pywedge) (305.1)\n"
     ]
    }
   ],
   "source": [
    "!pip install pywedge"
   ]
  },
  {
   "cell_type": "code",
   "execution_count": 1,
   "id": "263da9d7-55f5-497a-bf39-413932575ef8",
   "metadata": {
    "tags": []
   },
   "outputs": [],
   "source": [
    "import pandas as pd\n",
    "import pywedge as pw\n",
    "import pickle as pkl"
   ]
  },
  {
   "cell_type": "code",
   "execution_count": 2,
   "id": "a8e95b91-8e7f-441d-97ab-3b3721f77d81",
   "metadata": {
    "tags": []
   },
   "outputs": [],
   "source": [
    "with open(\"final_auto.pkl\",\"rb\") as f:\n",
    "    dataset=pkl.load(f)"
   ]
  },
  {
   "cell_type": "code",
   "execution_count": 3,
   "id": "7abf932f-f74c-4015-9ed3-817f65976e35",
   "metadata": {
    "tags": []
   },
   "outputs": [],
   "source": [
    "df=dataset.copy()"
   ]
  },
  {
   "cell_type": "code",
   "execution_count": 4,
   "id": "130d553a-82d5-4173-8111-69748d22d364",
   "metadata": {
    "tags": []
   },
   "outputs": [
    {
     "data": {
      "text/plain": [
       "Index(['seller', 'brand', 'dollar_price', 'vehicleType', 'gearbox', 'powerPS',\n",
       "       'fuelType', 'kilometer', 'yearOfRegistration'],\n",
       "      dtype='object')"
      ]
     },
     "execution_count": 4,
     "metadata": {},
     "output_type": "execute_result"
    }
   ],
   "source": [
    "df.columns"
   ]
  },
  {
   "cell_type": "code",
   "execution_count": 5,
   "id": "a472687e-1f0a-4e26-84a2-216e06a77007",
   "metadata": {
    "tags": []
   },
   "outputs": [
    {
     "name": "stderr",
     "output_type": "stream",
     "text": [
      "C:\\Users\\ASUS\\anaconda3\\Lib\\site-packages\\pywedge\\pywedge.py:27: FutureWarning: In a future version of pandas all arguments of DataFrame.drop except for the argument 'labels' will be keyword-only.\n",
      "  self.X = self.train.drop(self.y,1)\n"
     ]
    }
   ],
   "source": [
    "price=pw.Pywedge_Charts(df,c=None,y=\"dollar_price\")"
   ]
  },
  {
   "cell_type": "code",
   "execution_count": 9,
   "id": "53040dbf-658e-49fd-b9f6-7a605ae9f447",
   "metadata": {
    "tags": []
   },
   "outputs": [
    {
     "name": "stderr",
     "output_type": "stream",
     "text": [
      "C:\\Users\\ASUS\\anaconda3\\Lib\\site-packages\\paramiko\\transport.py:219: CryptographyDeprecationWarning: Blowfish has been deprecated\n",
      "  \"class\": algorithms.Blowfish,\n"
     ]
    },
    {
     "data": {
      "application/vnd.jupyter.widget-view+json": {
       "model_id": "97dc7ed3c12049c496e91dc368ba4d13",
       "version_major": 2,
       "version_minor": 0
      },
      "text/plain": [
       "HTML(value='<h2>Pywedge Make_Charts </h2>')"
      ]
     },
     "metadata": {},
     "output_type": "display_data"
    },
    {
     "data": {
      "application/vnd.jupyter.widget-view+json": {
       "model_id": "f8991d602ad342c59cf060445bb553d3",
       "version_major": 2,
       "version_minor": 0
      },
      "text/plain": [
       "Tab(children=(Output(), Output(), Output(), Output(), Output(), Output(), Output(), Output()), selected_index=…"
      ]
     },
     "metadata": {},
     "output_type": "display_data"
    }
   ],
   "source": [
    "charts1=price.make_charts()"
   ]
  },
  {
   "cell_type": "code",
   "execution_count": null,
   "id": "3fd0797c-b275-4686-84d4-e1e9ea2a94fa",
   "metadata": {},
   "outputs": [],
   "source": []
  }
 ],
 "metadata": {
  "kernelspec": {
   "display_name": "Python 3 (ipykernel)",
   "language": "python",
   "name": "python3"
  },
  "language_info": {
   "codemirror_mode": {
    "name": "ipython",
    "version": 3
   },
   "file_extension": ".py",
   "mimetype": "text/x-python",
   "name": "python",
   "nbconvert_exporter": "python",
   "pygments_lexer": "ipython3",
   "version": "3.11.4"
  }
 },
 "nbformat": 4,
 "nbformat_minor": 5
}
